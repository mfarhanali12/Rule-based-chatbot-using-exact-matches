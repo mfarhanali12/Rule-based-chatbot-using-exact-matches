{
 "cells": [
  {
   "cell_type": "markdown",
   "metadata": {
    "id": "xcLrTwBDAjU6"
   },
   "source": [
    "## <font color='#7ed6df'>Rule Based Chatbot <br><font color='#c7ecee'>Banking Customer Service Chatbot</font>  <br/>\n",
    " <font color='#95afc0'> Question-Answer <br> Rule based use hard-coded rules - many limitations. Remember this is not using NLP or machine learning<br>AI based chatbots are based on complex machine learning models that enable them to <font color='#dff9fb'> self-learn </font>  <br> ML: Learns (trains) from conversational datasets "
   ]
  },
  {
   "cell_type": "markdown",
   "metadata": {
    "id": "8BE9uINiCuR5"
   },
   "source": [
    "# <font color='#c7ecee'>Rule based Chatbot  <font color='#7ed6df' >Using Exact Matches  <br> \n",
    " <font color='#95afc0'>In this case, since the chatbot relies on the exact question being asked, quite often a customer would have to select from preset questions - the only inputs that the bot would understand. <br>Build List with input - reponse matches"
   ]
  },
  {
   "cell_type": "code",
   "execution_count": 1,
   "metadata": {
    "id": "79a0SG_XWOWh"
   },
   "outputs": [],
   "source": [
    "match_list = {\n",
    "    \"my credit card was stolen, what to do?\": \"Call 1-800-123-5000 and an agent will cancel your card\",\n",
    "    \"is the bank open on sundays?\": \"yes from 10:00 to 14:00\",\n",
    "    \"generic\": \"I did not understand the question\"\n",
    "}"
   ]
  },
  {
   "cell_type": "code",
   "execution_count": 2,
   "metadata": {
    "id": "0XviINVqWOy3"
   },
   "outputs": [],
   "source": [
    "conversation = \"Customer: {input}\\nGeorge: {output}\\n\"\n",
    "#function to figure out which reponse would match the input question \n",
    "\n",
    "def match_resp(input):\n",
    "  answer = match_list.get(input.lower(),match_list['generic'])\n",
    "  return(conversation.format(input=input, output = answer))"
   ]
  },
  {
   "cell_type": "code",
   "execution_count": 3,
   "metadata": {
    "colab": {
     "base_uri": "https://localhost:8080/"
    },
    "id": "BH-DRzjEZLgB",
    "outputId": "1dbceb46-0577-4a5f-f1e5-813a1c277297"
   },
   "outputs": [
    {
     "name": "stdout",
     "output_type": "stream",
     "text": [
      "Customer: my credit card was stolen, what to do?\n",
      "George: Call 1-800-123-5000 and an agent will cancel your card\n",
      "\n",
      "Customer: is the bank open on Sundays?\n",
      "George: yes from 10:00 to 14:00\n",
      "\n",
      "Customer: credit card was stolen, what to do?\n",
      "George: I did not understand the question\n",
      "\n",
      "Customer: would I qualify for a car loan if i have no collateral\n",
      "George: I did not understand the question\n",
      "\n"
     ]
    }
   ],
   "source": [
    "#response output \n",
    "print(match_resp(\"my credit card was stolen, what to do?\"))\n",
    "print(match_resp(\"is the bank open on Sundays?\"))\n",
    "print(match_resp(\"credit card was stolen, what to do?\"))\n",
    "print(match_resp(\"would I qualify for a car loan if i have no collateral\"))"
   ]
  },
  {
   "cell_type": "markdown",
   "metadata": {
    "id": "UgAHNB8iH74E"
   },
   "source": [
    "## <font color='#c7ecee'>Rule based Chatbot:  <font color='#7ed6df' >Use Pattern-Matching to 'guess' the answer. <br>\n",
    " <font color='#d1ccc0'>Rule-based (also command-based, keyword, or transactional) chatbots communicate using predefined answers.\n",
    "\n",
    "\n"
   ]
  },
  {
   "cell_type": "code",
   "execution_count": 4,
   "metadata": {
    "id": "-1yxoElRKxsx"
   },
   "outputs": [],
   "source": [
    "import re "
   ]
  },
  {
   "cell_type": "markdown",
   "metadata": {
    "id": "9xBe04k0oL2A"
   },
   "source": [
    " <font color='#7ed6df'>Build Keyword List<br> <font color='#d1ccc0'>Predefined keywords that the chatbot would be programmed on to answer "
   ]
  },
  {
   "cell_type": "code",
   "execution_count": 5,
   "metadata": {
    "id": "-DeiNMhoH7Ag"
   },
   "outputs": [],
   "source": [
    "keywords = {\n",
    "    'change_pin': ['pin', 'code', 'change'],\n",
    "    'stolen_lost': ['stolen', 'lost', 'hacked'],\n",
    "    'loan': ['qualify', 'loan', 'borrow', 'interest']\n",
    "}"
   ]
  },
  {
   "cell_type": "markdown",
   "metadata": {
    "id": "ZPGSW5GjkBeh"
   },
   "source": [
    " <font color='#7ed6df'>Build a dictionary of intents"
   ]
  },
  {
   "cell_type": "code",
   "execution_count": 6,
   "metadata": {
    "id": "uKOquj1lKm-Q"
   },
   "outputs": [],
   "source": [
    "dict_intent = {intent: re.compile('|'.join(keys)) for intent, keys in keywords.items()}"
   ]
  },
  {
   "cell_type": "markdown",
   "metadata": {
    "id": "bjT0bEfGhlHo"
   },
   "source": [
    "  <font color='#7ed6df'>Function to determine the pattern, to figure out the context of the question<br>  taking an input from the user and searching the input string for our keywords.<br>RegEx Search function to search the user input for keywords stored in the value field of the keywords dictionary. RegEx’s search function uses those sequences to compare the patterns of characters in the keywords with patterns of characters in the input string.\n",
    "\n",
    "<font color='#d1ccc0'>If a match is found, the current intent gets selected and is used as the key to the responses dictionary to select the correct response.<br>If there is no indication of the pattern in the input, then a generic response is given.<br>Define a dictionary of reponses. <br>Search input for Keywords"
   ]
  },
  {
   "cell_type": "code",
   "execution_count": 7,
   "metadata": {
    "id": "FM7npWpXKlvA"
   },
   "outputs": [],
   "source": [
    "def context(cust_input):\n",
    "    for intent, pattern in dict_intent.items():\n",
    "        if re.search(pattern, cust_input): \n",
    "            return(intent)\n",
    "    else:\n",
    "        return('generic')\n",
    "\n",
    "dict_response = {\n",
    "    \"change_pin\":\"To change PIN, you need to set up an appointment to come in to the bank. Set up appointment online www.gothambank.com/newpin\",\n",
    "    \"stolen_lost_card\": \"Call 1-800-5000 immediately, select option 2 and an agent will cancel the card\",\n",
    "    \"loan\":\"Try our loan-calculator www.gothambank.com/loancalculator\",\n",
    "    \"generic\":\"I did not understand the question, rephrase it or call 1-800-9000 to speak to an agent!\"\n",
    "}"
   ]
  },
  {
   "cell_type": "markdown",
   "metadata": {
    "id": "aRIFS9p3nj3K"
   },
   "source": [
    " <font color='#d1ccc0'>Pick response based on Matched Intent"
   ]
  },
  {
   "cell_type": "code",
   "execution_count": 8,
   "metadata": {
    "id": "iZE1aW_9Kscg"
   },
   "outputs": [],
   "source": [
    "def answer(text):\n",
    "    response = dict_response.get(context(text))\n",
    "    conversation = \"Customer: {input}\\nRudy: {output}\\n\" \n",
    "    return(conversation.format(input=text, output=response))"
   ]
  },
  {
   "cell_type": "markdown",
   "metadata": {
    "id": "T2o5Mbk7nqNm"
   },
   "source": [
    " <font color='#d1ccc0'>Response Output <br><font color='#95afc0'>If the customer uses a different spelling or dialect, the chatbot might fail to match that question with an answer"
   ]
  },
  {
   "cell_type": "code",
   "execution_count": 10,
   "metadata": {
    "colab": {
     "base_uri": "https://localhost:8080/"
    },
    "id": "mPVe-zsDK5zj",
    "outputId": "2935b397-724f-4e97-bc10-0e92acc35ddd"
   },
   "outputs": [
    {
     "name": "stdout",
     "output_type": "stream",
     "text": [
      "Customer: How can I change my pin code for my debit?\n",
      "Rudy: To change PIN, you need to set up an appointment to come in to the bank. Set up appointment online www.gothambank.com/newpin\n",
      "\n",
      "Customer: Can I qualify for a loan if I already have a mortage?\n",
      "Rudy: Try our loan-calculator www.gothambank.com/loancalculator\n",
      "\n",
      "Customer: Does Gotham Bank offer insurance?\n",
      "Rudy: I did not understand the question, rephrase it or call 1-800-9000 to speak to an agent!\n",
      "\n",
      "Customer: i want to  change my atm pin. Tell me the procedure please\n",
      "Rudy: To change PIN, you need to set up an appointment to come in to the bank. Set up appointment online www.gothambank.com/newpin\n",
      "\n",
      "Customer: my credit card is lost. What to do?\n",
      "Rudy: None\n",
      "\n",
      "Customer: do I qualify to take a loan?\n",
      "Rudy: Try our loan-calculator www.gothambank.com/loancalculator\n",
      "\n",
      "Customer: is the bank open today?\n",
      "Rudy: I did not understand the question, rephrase it or call 1-800-9000 to speak to an agent!\n",
      "\n"
     ]
    }
   ],
   "source": [
    "print(answer(\"How can I change my pin code for my debit?\"))\n",
    "print(answer(\"Can I qualify for a loan if I already have a mortage?\"))\n",
    "print(answer(\"Does Gotham Bank offer insurance?\"))\n",
    "print(answer(\"i want to change my atm pin. Tell me the procedure please\"))\n",
    "print(answer(\"my credit card is lost. What to do?\"))\n",
    "print(answer(\"do I qualify to take a loan?\"))\n",
    "print(answer(\"is the bank open today?\"))"
   ]
  },
  {
   "cell_type": "code",
   "execution_count": null,
   "metadata": {},
   "outputs": [],
   "source": []
  }
 ],
 "metadata": {
  "colab": {
   "collapsed_sections": [],
   "name": "chatbot_rule_complete2.ipynb",
   "provenance": []
  },
  "kernelspec": {
   "display_name": "Python 3 (ipykernel)",
   "language": "python",
   "name": "python3"
  },
  "language_info": {
   "codemirror_mode": {
    "name": "ipython",
    "version": 3
   },
   "file_extension": ".py",
   "mimetype": "text/x-python",
   "name": "python",
   "nbconvert_exporter": "python",
   "pygments_lexer": "ipython3",
   "version": "3.9.12"
  }
 },
 "nbformat": 4,
 "nbformat_minor": 1
}
